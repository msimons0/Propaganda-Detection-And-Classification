{
  "nbformat": 4,
  "nbformat_minor": 0,
  "metadata": {
    "colab": {
      "name": "PropagandaDetectionAndClassification.ipynb",
      "provenance": [],
      "authorship_tag": "ABX9TyNMDnde3VqAaHuO8rZa2bVJ",
      "include_colab_link": true
    },
    "kernelspec": {
      "name": "python3",
      "display_name": "Python 3"
    },
    "language_info": {
      "name": "python"
    }
  },
  "cells": [
    {
      "cell_type": "markdown",
      "metadata": {
        "id": "view-in-github",
        "colab_type": "text"
      },
      "source": [
        "<a href=\"https://colab.research.google.com/github/msimons0/Propaganda-Detection-And-Classification/blob/main/PropagandaDetectionAndClassification.ipynb\" target=\"_parent\"><img src=\"https://colab.research.google.com/assets/colab-badge.svg\" alt=\"Open In Colab\"/></a>"
      ]
    },
    {
      "cell_type": "code",
      "execution_count": null,
      "metadata": {
        "id": "fKP2GLFpMhYW"
      },
      "outputs": [],
      "source": [
        ""
      ]
    }
  ]
}